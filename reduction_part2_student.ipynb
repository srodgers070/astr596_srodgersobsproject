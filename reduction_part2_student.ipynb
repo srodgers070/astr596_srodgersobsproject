{
 "cells": [
  {
   "cell_type": "markdown",
   "metadata": {},
   "source": [
    "<h2>OBSERVATIONAL ASTROPHYSICS – FALL 2019 Reduction Exercise: Part 2</h2>\n",
    "\n",
    "In Part 1 you constructed images that were overscan subtracted and trimmed.\n",
    "\n",
    "In Part 2 you will will:\n",
    "\n",
    "1. combine your bias frames to make a master bias frame;\n",
    "2. bias subtract all your images;\n",
    "3. make a combined flatfield image in each band;\n",
    "4. flatfield the flatfield images and science images;\n",
    "\n",
    "Remember that your raw data are stored in ~/RFSLAB/USER_DPT/_PUBLIC/ASTR596/Data/Raw/< your night>\n",
    "and your reduced images are stored in ~/RFSLAB/USER_DPT/< KUID>/ASTR596/Data/Reduced/< your_night> "
   ]
  },
  {
   "cell_type": "code",
   "execution_count": 1,
   "metadata": {},
   "outputs": [],
   "source": [
    "import numpy as np\n",
    "from astropy import units as u\n",
    "from astropy.nddata import CCDData\n",
    "import ccdproc\n",
    "from matplotlib import pyplot as plt\n",
    "from ccdproc import Combiner\n",
    "from astropy.io import ascii"
   ]
  },
  {
   "cell_type": "markdown",
   "metadata": {},
   "source": [
    "You will first read in bias images and combine them using the \"Combiner\" task described at https://ccdproc.readthedocs.io/en/latest/image_combination.html\n",
    "\n",
    "Make sure to read the section on sigma-clipping, which describes how we generate maskes for comining and eventually combine the images.  \n",
    "\n",
    "As a first step you will need to make a set of lists that contain files.  You can name the lists what you'd like, e.g. biaslist, but you'll need to make sure that they are in the right places in the program:\n",
    "1. biaslist: all of your good trimmed bias frames\n",
    "2. flatlist_< band>: all of the trimmed flatfields corresponding to a given band\n",
    "3. science_< band>_< target>: all of the science frames for each target in each band"
   ]
  },
  {
   "cell_type": "code",
   "execution_count": 27,
   "metadata": {},
   "outputs": [],
   "source": [
    "rawpath = \"/home/s376r951/RFSLAB/USER_DPT/s376r951/Data/Raw/20191104/\"\n",
    "redpath = \"/home/s376r951/RFSLAB/USER_DPT/s376r951/Data/Reduced_Final/\"\n",
    "\n",
    "\n",
    "\n",
    "biaslist =\"biaslist.txt\"\n",
    "biaslistpath = redpath+biaslist\n",
    "\n",
    "\n",
    "#initialize list of bias frames\n",
    "bias_imlist = []\n",
    "#this way of opening the file ensures that it closes after the loop is done.\n",
    "with open(biaslistpath,'r') as fp:\n",
    "    #read first line\n",
    "    line = fp.readline()\n",
    "\n",
    "    #build the combine list of all images\n",
    "    #read every subsequent line\n",
    "    while line:\n",
    "        #this removes the trailing newline charactter and converts the output list to a scalar\n",
    "        imname = line.split()\n",
    "        imname = imname[0]\n",
    "        \n",
    "        #create the image name, including the path\n",
    "        imstr = redpath + imname\n",
    "        #read that into a CCDData object.  This allows you to specify a unit\n",
    "        im = CCDData.read(imstr)\n",
    "\n",
    "        #make a list of all the CCDData instances of each image\n",
    "        bias_imlist = bias_imlist + [im]\n",
    "\n",
    "        line = fp.readline()\n",
    "\n",
    "#Combiner list of all bias images\n",
    "bias_comb = Combiner(bias_imlist)\n",
    "\n",
    "#now create masks with sigma clipping algorithm\n",
    "#This creates a mask for each image that is the size of each image but which has 0 values\n",
    "#everywhere except those pixels in excess of low_thresh and high_thresh sigma from the median.\n",
    "#Those pixels get a value of 1\n",
    "#*************\n",
    "#given the number of pixels in your image how must you set high_thresh to avoid flagging more than\n",
    "#about 5 pixels because of expected statistical variations.  Assume the noise is distributed like a Gaussian.\n",
    "#Remember, you want to get rid of really deviant pixels, so if you set the threshold too high you won't\n",
    "#get rid of anything!\n",
    "bias_comb.sigma_clipping(low_thresh=3, high_thresh=5, func=np.ma.median)\n",
    "\n",
    "#Use these masks to combine the images.  This now becomes your master bias\n",
    "master_bias = bias_comb.average_combine()\n",
    "\n",
    "#now write out the master bias\n",
    "masterbiaspath = redpath + 'master_bias.fits'\n",
    "master_bias.write(masterbiaspath,overwrite=True)\n"
   ]
  },
  {
   "cell_type": "markdown",
   "metadata": {},
   "source": [
    "What follows is a function to subtract bias frame from a list of images"
   ]
  },
  {
   "cell_type": "code",
   "execution_count": 33,
   "metadata": {},
   "outputs": [],
   "source": [
    "def bias_sub(imlist_name, redpath, master_bias):\n",
    "    #go through each image in a list, subtract the master bias from that image, and write the image out again.\n",
    "    #imlist_name: the name of the file (without path) that contains the list of images to subtract the bias from\n",
    "    #redpath: the path of directory with your reduced data\n",
    "    #master_bias: the actual CCDData master bias, *not* the filename of the master bias fits file\n",
    "\n",
    "    imlistpath= redpath + imlist_name\n",
    "    with open(imlistpath,'r') as fp:\n",
    "        #read first line\n",
    "        line = fp.readline()\n",
    "\n",
    "        #read every subsequent line\n",
    "        while line:\n",
    "            #read in each file\n",
    "            imname = line.split()\n",
    "            imname = imname[0]\n",
    "            impath = redpath + imname\n",
    "            #load file into CCDData objet\n",
    "            im = CCDData.read(impath)\n",
    "            #***********  \n",
    "            #insert appropriate expression from https://ccdproc.readthedocs.io/en/latest/image_combination.html\n",
    "            #subtract bias frame\n",
    "            im_bsub = ccdproc.subtract_bias(imlistpath ,master_bias)\n",
    "            #now write out the file, replacing \".fits\" with \"b.fits\"\n",
    "            bsub_imname = imname.replace('.fits','b.fits',1)\n",
    "            #print(bsub_imname)\n",
    "            bsub_path = redpath + bsub_imname\n",
    "            im_bsub.write(bsub_path,overwrite=True)\n",
    "            line = fp.readline()\n",
    "\n"
   ]
  },
  {
   "cell_type": "markdown",
   "metadata": {},
   "source": [
    "now subtract the bias frames from all images"
   ]
  },
  {
   "cell_type": "code",
   "execution_count": null,
   "metadata": {},
   "outputs": [],
   "source": [
    "#**************\n",
    "#put in the appropriate file name for each of the flats and science frames\n",
    "#subtract bias from flats in each band (you will need two calls to this function)\n",
    "flatlist=\"flatlist.txt\"\n",
    "\n",
    "\n",
    "\n",
    "bias_sub(, redpath, master_bias)\n",
    "\n",
    "#subtract bias from science frames in each band.  You will need to do this for each band and each target\n",
    "bias_sub(,redpath,master_bias)\n"
   ]
  },
  {
   "cell_type": "markdown",
   "metadata": {},
   "source": [
    "Now combine the flatfields into master flats.  In this process you will scale each object to their mean before combining.  \n",
    "\n",
    "Here we will use a median combination instead of a sigma clipping combination.  In the cell below please describe why this is a good idea."
   ]
  },
  {
   "cell_type": "markdown",
   "metadata": {},
   "source": [
    "<h4>Your answer here:</h4>"
   ]
  },
  {
   "cell_type": "markdown",
   "metadata": {},
   "source": [
    "Towards the bottom of this routine we will be using a \"Lambda\" function to normalize our images.  These are small anonymous throw-away functions that are only used once in a code.  Their use is described here https://www.python-course.eu/python3_lambda.php.  "
   ]
  },
  {
   "cell_type": "code",
   "execution_count": null,
   "metadata": {},
   "outputs": [],
   "source": [
    "def master_flatmake(imlist_name, redpath, master_flatname):\n",
    "    #a function that makes a master flatfield, taking its flats from a list.  \n",
    "    #The process will be very similar to that for bias frames, though we \n",
    "    #1) normalize the frames before combining and \n",
    "    #2) make it a function as we may need to generate flats for mutliple bands\n",
    "\n",
    "    #imlist_name: the name of the file (without path) that contains the list of images that will be combined\n",
    "    #redpath: the path of directory with your reduced data\n",
    "    #master_flatname: the name of the combined master flatfield\n",
    "\n",
    "    imlistpath = redpath + imlist_name\n",
    "\n",
    "\n",
    "    #initialize list of flat frames\n",
    "    flat_imlist = []\n",
    "    #this way of opening the file ensures that it closes after the loop is done.\n",
    "    with open(imlistpath,'r') as fp:\n",
    "        #read first line\n",
    "        line = fp.readline()\n",
    "\n",
    "        #build the combine list of all images\n",
    "        #read every subsequent line\n",
    "        while line:\n",
    "            #this removes the trailing newline charactter and converts the output list to a scalar\n",
    "            imname = line.split()\n",
    "            imname = imname[0]\n",
    "        \n",
    "            #create the image name, including the path\n",
    "            imstr = redpath + imname\n",
    "            #read that into a CCDData object.  This allows you to specify a unit\n",
    "            im = CCDData.read(imstr)\n",
    "\n",
    "            #make a list of all the CCDData instances of each image\n",
    "            flat_imlist = flat_imlist + [im]\n",
    "\n",
    "            line = fp.readline()\n",
    "\n",
    "    #Combiner list of all flat images\n",
    "    flat_combiner = Combiner(flat_imlist)\n",
    "    \n",
    "    #######################################\n",
    "    #this is an anonymous throw away function that takes an argument and is intended\n",
    "    #to be used just once.  In this case, the scaling functionality of the combiner is \n",
    "    #set to scale by the inverse of the mean, so images with high counts get scaled down and\n",
    "    #images wtih low counts get scaled up\n",
    "    scaling_func = lambda arr: 1/np.ma.average(arr)\n",
    "    flat_combiner.scaling = scaling_func\n",
    "\n",
    "    #combine the scaled images\n",
    "    #****************\n",
    "    #insert appropriate expression from https://ccdproc.readthedocs.io/en/latest/image_combination.html\n",
    "    master_flat = \n",
    "    \n",
    "\n",
    "    #now write out the master flat\n",
    "    masterflatpath = redpath + master_flatname\n",
    "    master_flat.write(masterflatpath,overwrite=True)\n"
   ]
  },
  {
   "cell_type": "markdown",
   "metadata": {},
   "source": [
    "Now use this function to generate master flats"
   ]
  },
  {
   "cell_type": "code",
   "execution_count": null,
   "metadata": {},
   "outputs": [],
   "source": [
    "#***********\n",
    "#make the appropriate calles to master_flatmake to make the flatfields. \n",
    "#Do this for each of your sets of flatfields\n",
    "#figure out what the missing argument is\n",
    "master_flatmake(, redpath, 'master_flat_B.fits')\n",
    "master_flatmake(, redpath, 'master_flat_V.fits')"
   ]
  },
  {
   "cell_type": "markdown",
   "metadata": {},
   "source": [
    "Write in the cell below how you can assess whether or not you have a good master flatfield.  What characteristics might you look for and does your master flatfield image have them.  Write also how your master flat differs from the individual flatfield images."
   ]
  },
  {
   "cell_type": "markdown",
   "metadata": {},
   "source": [
    "<h4>Your answer goes here:</h4>"
   ]
  },
  {
   "cell_type": "markdown",
   "metadata": {},
   "source": [
    "-------------------------------\n",
    "Now we will flatfield all of our science and flatfield images.  This is similar to the process for bias subtraction except that we will be dividing by the master flat, as opposed to subtracting the master bias."
   ]
  },
  {
   "cell_type": "code",
   "execution_count": null,
   "metadata": {},
   "outputs": [],
   "source": [
    "def flat_corr(imlist_name, redpath, masterflat_name):\n",
    "    #go through each image in a list, subtract the master bias from that image, and write the image out again.\n",
    "    #imlist_name: the name of the file (without path) that contains the list of images to subtract the bias from\n",
    "    #redpath: the path of directory with your reduced data\n",
    "    #master_name: the filename of the master flatfield\n",
    "\n",
    "    masterflat_path = redpath + masterflat_name\n",
    "    master_flat = CCDData.read(masterflat_path)\n",
    "    \n",
    "    imlistpath= redpath + imlist_name\n",
    "    with open(imlistpath,'r') as fp:\n",
    "        #read first line\n",
    "        line = fp.readline()\n",
    "\n",
    "        #read every subsequent line\n",
    "        while line:\n",
    "            #read in each file\n",
    "            imname = line.split()\n",
    "            imname = imname[0]\n",
    "            impath = redpath + imname\n",
    "            #load file into CCDData objet\n",
    "            im = CCDData.read(impath)\n",
    "            \n",
    "            #***********  \n",
    "            #insert appropriate expression from https://ccdproc.readthedocs.io/en/latest/image_combination.html\n",
    "            #subtract bias frame\n",
    "            im_flat = \n",
    "            \n",
    "            #now write out the file\n",
    "            flat_imname = imname.replace('.fits','f.fits',1)\n",
    "\n",
    "            imflat_path = redpath + flat_imname\n",
    "            im_flat.write(imflat_path,overwrite=True)\n",
    "            line = fp.readline()\n",
    "\n"
   ]
  },
  {
   "cell_type": "code",
   "execution_count": null,
   "metadata": {},
   "outputs": [],
   "source": [
    "#*************\n",
    "#flatfield correct all the flats\n",
    "#put in the correct argument for the function\n",
    "flat_corr(, redpath, 'master_flat_B.fits')\n",
    "flat_corr(, redpath, 'master_flat_V.fits')\n",
    "\n",
    "#flatfield correct the science frames in each band\n",
    "flat_corr(,redpath, 'master_flat_B.fits')\n",
    "flat_corr(,redpath, 'master_flat_V.fits')"
   ]
  },
  {
   "cell_type": "markdown",
   "metadata": {},
   "source": [
    "**write in this cell how you can tell if your master flatfield in each band did a good job.  Be quantitative if possible.  Also write how the flatfielded science images look different from those before flatfielding.**"
   ]
  }
 ],
 "metadata": {
  "kernelspec": {
   "display_name": "Python 3",
   "language": "python",
   "name": "python3"
  },
  "language_info": {
   "codemirror_mode": {
    "name": "ipython",
    "version": 3
   },
   "file_extension": ".py",
   "mimetype": "text/x-python",
   "name": "python",
   "nbconvert_exporter": "python",
   "pygments_lexer": "ipython3",
   "version": "3.7.4"
  }
 },
 "nbformat": 4,
 "nbformat_minor": 2
}
