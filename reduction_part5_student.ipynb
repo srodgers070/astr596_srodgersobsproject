{
 "cells": [
  {
   "cell_type": "markdown",
   "metadata": {},
   "source": [
    "<h2>OBSERVATIONAL ASTROPHYSICS – FALL 2019 Reduction Exercise: Part 5</h2>\n",
    "\n",
    "The goal of this part is to produce a color-magnitude diagram for your cluster.  Do do this we need to detect stars, measure their flux, compare it to a known magnitude for that star, derive the magnitude zeropoint for that band, and convert all of your fluxes to magnitudes.  This will be broked into the following steps:\n",
    "\n",
    "1. read in image with a valid astrometric header (the output image from the end of part 4);\n",
    "2. Locate stars in this image and measure their flux;\n",
    "3. Read in an ASCII file with a list of measured magnitudes for stars in that cluster;\n",
    "4. Cross-match the two lists to find which object corresponds to which;\n",
    "5. Compare the fluxes and magnitudes to determine the magnitude zeropoint of your image, i.e. what magnitude is a single count;\n",
    "6. Use this to create magnitudes in each band\n",
    "7. Produce a color-magnitude diagrame\n",
    "\n",
    "The first cell below is a routine designed to read in one image"
   ]
  },
  {
   "cell_type": "code",
   "execution_count": null,
   "metadata": {},
   "outputs": [],
   "source": [
    "import os, glob, time\n",
    "import numpy as np\n",
    "from astropy.io import fits\n",
    "from matplotlib import pyplot as plt\n",
    "\n",
    "redpath = \"/Users/grudnick/Work/Teaching/Classes/Astro_596/Fall_2019/Observing_project/Data/Reduced/20191104/\""
   ]
  },
  {
   "cell_type": "markdown",
   "metadata": {},
   "source": [
    "A routine to display in image"
   ]
  },
  {
   "cell_type": "code",
   "execution_count": null,
   "metadata": {},
   "outputs": [],
   "source": [
    "def display_image(img, minclip=5, maxclip=95, label=None, cmap='Greys_r', \n",
    "                  srcs=None, projection=None, calibrated=False):\n",
    "    \"\"\"Simple wrapper to display an image.\n",
    "    \n",
    "    \"\"\"\n",
    "    from astropy.visualization import AsinhStretch as Stretch\n",
    "    from astropy.visualization import ZScaleInterval as Interval\n",
    "    from astropy.visualization.mpl_normalize import ImageNormalize\n",
    "\n",
    "    #from astropy.visualization import simple_norm\n",
    "    #norm = simple_norm(img, min_percent=minclip, max_percent=maxclip)\n",
    "\n",
    "    interval = Interval(contrast=0.5)\n",
    "    vmin, vmax = interval.get_limits(img)\n",
    "    norm = ImageNormalize(interval=interval, stretch=Stretch(a=0.9))\n",
    "\n",
    "    fig, ax = plt.subplots(figsize=(12, 12), subplot_kw={'projection': projection})\n",
    "    im = ax.imshow(img, origin='lower', norm=norm, cmap=cmap,\n",
    "                   vmin=vmin, vmax=vmax)\n",
    "    if projection:\n",
    "        ax.coords.grid(color='red')\n",
    "        ax.coords['ra'].set_axislabel('Right Ascension')\n",
    "        ax.coords['dec'].set_axislabel('Declination')      \n",
    "    else:\n",
    "        ax.set_xlabel('Column Number (pixels)')\n",
    "        ax.set_ylabel('Row Number (pixels)')\n",
    "\n",
    "    # Mark the locations of stars.\n",
    "    if srcs:\n",
    "        from photutils import CircularAperture\n",
    "        pos = np.transpose((srcs['xcentroid'], srcs['ycentroid']))\n",
    "        aps = CircularAperture(pos, r=12.)\n",
    "        aps.plot(color='red', lw=1.5, alpha=0.6, axes=ax)\n",
    "      \n",
    "    # Make room for the colorbar\n",
    "    fig.subplots_adjust(right=0.8)\n",
    "    cax = fig.add_axes([0.85, 0.28, 0.05, 0.45])\n",
    "    c = plt.colorbar(im, cax=cax)\n",
    "    if label:\n",
    "        c.set_label(label)\n",
    "    else:\n",
    "        if calibrated:\n",
    "            c.set_label(r'Intensity ($e^{-}/s$)')\n",
    "        else:\n",
    "            c.set_label('Intensity (ADU)')"
   ]
  },
  {
   "cell_type": "markdown",
   "metadata": {},
   "source": [
    "<h3> Find the stars in your image</h3>"
   ]
  },
  {
   "cell_type": "code",
   "execution_count": null,
   "metadata": {},
   "outputs": [],
   "source": [
    "#filename should be the name of the combined image file (without path) that has the original header\n",
    "#wcsfilename should be the name of the image that has the correct WCS header, e.g. one output\n",
    "#by astrometry.net. \n",
    "def read_one_image(filename, wcsfilename, redpath):\n",
    "    from astropy.table import Table\n",
    "    from astropy.wcs import WCS\n",
    "\n",
    "    # This joins the path and the filename\n",
    "    imgfile = os.path.join('{}'.format(redpath), filename)\n",
    "    wcsfile = os.path.join('{}'.format(redpath), wcsfilename)\n",
    "\n",
    "    print('Reading {}'.format(imgfile))\n",
    "    #this is the image and full header of the file.  \n",
    "    img, hdr = fits.getdata(imgfile, header=True)\n",
    "    wcshdr = fits.getheader(wcsfile)\n",
    "\n",
    "    #this is only the section of the file that contains the WCS, which is the mapping between pixel \n",
    "    #and sky coordinate (RA,DEC)\n",
    "    imgwcs = WCS(wcshdr)#, naxis=2)\n",
    "\n",
    "    return img, hdr, imgwcs, imgfile"
   ]
  },
  {
   "cell_type": "code",
   "execution_count": null,
   "metadata": {},
   "outputs": [],
   "source": [
    "img_ngc7296_V, hdr_ngc7296_V, imgwcs_ngc7296_V, imgfile_ngc7296_V = read_one_image('ngc7276_V_comb.fits','wngc7276_V_comb.fits',redpath)\n",
    "img_ngc7296_B, hdr_ngc7296_B, imgwcs_ngc7296_B, imgfile_ngc7296_B = read_one_image('ngc7276_B_comb.fits','wngc7276_B_comb.fits',redpath)"
   ]
  },
  {
   "cell_type": "markdown",
   "metadata": {},
   "source": [
    "This is the same routine that we used in part 4.  It measures the background."
   ]
  },
  {
   "cell_type": "code",
   "execution_count": null,
   "metadata": {},
   "outputs": [],
   "source": [
    "def get_sky_background(img, verbose=True):\n",
    "    from astropy.stats import SigmaClip\n",
    "    from photutils import Background2D, MedianBackground\n",
    "    sigma_clip = SigmaClip(sigma=4.)\n",
    "    bkg = Background2D(img, (100, 100), filter_size=(10, 10), sigma_clip=sigma_clip, \n",
    "                       bkg_estimator=MedianBackground())\n",
    "    if verbose:\n",
    "        print('Sky background median = {:.3f}, rms = {:.3f} electrons.'.format(bkg.background_median, bkg.background_rms_median))\n",
    "    return bkg"
   ]
  },
  {
   "cell_type": "markdown",
   "metadata": {},
   "source": [
    "This gets the background and subtracts it from the image to get a background subtracted image.  As in part 4 we check that the background looks correct."
   ]
  },
  {
   "cell_type": "code",
   "execution_count": null,
   "metadata": {},
   "outputs": [],
   "source": [
    "#***********\n",
    "bkg_V = get_sky_background(img_ngc7296_V, verbose=True)\n",
    "img_ngc7296_V_nosky = img_ngc7296_V - bkg_V.background\n",
    "\n",
    "bkg_B = get_sky_background(img_ngc7296_B, verbose=True)\n",
    "img_ngc7296_B_nosky = img_ngc7296_B - bkg_B.background"
   ]
  },
  {
   "cell_type": "code",
   "execution_count": null,
   "metadata": {},
   "outputs": [],
   "source": [
    "def qa_background(img,img_nosky,bkg):\n",
    "    med, sig = bkg.background_median, bkg.background_rms_median\n",
    "    vrange = (-3*sig, med+5*sig)\n",
    "    fig, ax = plt.subplots(figsize=(7, 5))\n",
    "    _ = ax.hist(img.flatten(), bins=100, range=vrange, label='Image w/ Background')\n",
    "    #_ = ax.hist(bkg.background.flatten(), bins=50, range=(-sig, med+5*sig), label='Background')\n",
    "    _ = ax.hist(img_nosky.flatten(), bins=100, range=vrange, label='Image w/o Background')\n",
    "    ax.axvline(x=bkg.background_median, lw=2, ls='-', color='k')\n",
    "    ax.set_xlabel('Intensity (e-/s)')\n",
    "    ax.set_ylabel('Number')\n",
    "    ax.legend(fontsize=12, frameon=False)"
   ]
  },
  {
   "cell_type": "code",
   "execution_count": null,
   "metadata": {},
   "outputs": [],
   "source": [
    "#***********\n",
    "qa_background(img_ngc7296_V, img_ngc7296_V_nosky,bkg_V)\n",
    "qa_background(img_ngc7296_B, img_ngc7296_B_nosky,bkg_B)"
   ]
  },
  {
   "cell_type": "markdown",
   "metadata": {},
   "source": [
    "This routine detects stars in the image.  It requires a zero background image.  There are many ways to measure object flux.  We are using the DAOStarfinder algorithm described (https://photutils.readthedocs.io/en/stable/api/photutils.detection.DAOStarFinder.html)\n",
    "\n",
    "This code requires as input the FWHM of stars in the image in pixel units.  You can determine this using the *imexam* task.\n",
    "\n",
    "You can use this by going to your image directory and typing *ipython* at the command line.  Once the interactive python environment loads you type the following set of commands:\n",
    "\n",
    "*import imexam*\n",
    "*viewer=imexam.connect()*\n",
    "*viewer.load_fits('<filename>')*\n",
    "*viewer.scale()*\n",
    "    \n",
    "You can then hit the \"a\" key and \"r\" key on bright isolated and unsaturated stars to find the FWHM.\n",
    "\n",
    "If imexam doesn't work on your computer then just use the mean FWHM from all the individual observations for that band/target\n",
    "\n",
    "This will need to be run once for each band"
   ]
  },
  {
   "cell_type": "code",
   "execution_count": null,
   "metadata": {},
   "outputs": [],
   "source": [
    "#this code outputs a file with all the detected stars.\n",
    "#fwhm is for stars in the image in units of pixels\n",
    "#nsigma is the detection threshold for each star\n",
    "def find_stars(image, imgfile, fwhm=3.0, nsigma=3, sigma=None, \n",
    "               verbose=True, overwrite=False):\n",
    "    from astropy.table import Table\n",
    "    \n",
    "    #this makes a file \n",
    "    starsfile = os.path.join(redpath, 'stars-{}'.format(os.path.basename(imgfile)))\n",
    "    if not os.path.isfile(starsfile) or overwrite:\n",
    "        from photutils import DAOStarFinder\n",
    "        if sigma is None:\n",
    "            sigma = np.std(image)\n",
    "\n",
    "        daofind = DAOStarFinder(fwhm=fwhm, threshold=nsigma * sigma)\n",
    "        srcs = daofind(image)\n",
    "        # reverse-sort by flux \n",
    "        srcs.sort('flux')\n",
    "        srcs.reverse()\n",
    "        if verbose:\n",
    "            print('Found {} sources'.format(len(srcs)))\n",
    "\n",
    "        print('Writing {} stars to {}'.format(len(srcs), starsfile))\n",
    "        srcs.write(starsfile, overwrite=True)\n",
    "    else:\n",
    "        srcs = Table.read(starsfile)\n",
    "        print('Read {} stars from {}'.format(len(srcs), starsfile))\n",
    "    return srcs"
   ]
  },
  {
   "cell_type": "code",
   "execution_count": null,
   "metadata": {},
   "outputs": [],
   "source": [
    "#***********\n",
    "srcs_ngc7296_V = find_stars(img_ngc7296_V_nosky, imgfile_ngc7296_V, sigma=bkg_V.background_rms_median, nsigma=5, \n",
    "                  verbose=True, overwrite=False)\n",
    "srcs_ngc7296_V"
   ]
  },
  {
   "cell_type": "code",
   "execution_count": null,
   "metadata": {},
   "outputs": [],
   "source": [
    "srcs_ngc7296_B = find_stars(img_ngc7296_B_nosky, imgfile_ngc7296_B, sigma=bkg_B.background_rms_median, nsigma=5, \n",
    "                  verbose=True, overwrite=False)\n",
    "srcs_ngc7296_B"
   ]
  },
  {
   "cell_type": "markdown",
   "metadata": {},
   "source": [
    "<h3> Use stars from Pan-STARRS</h3>\n",
    "\n",
    "We will be using the large survey called Pan-STARRS (https://panstarrs.stsci.edu/).  Pan-STARRS uses SDSS filters (*griz*), which are different from the \"Johnson\" *BVR* filters that we are using.  But there are transformation between these filters such that if we know the Pan-STARRS magnitudes of a given object, we can determine its B-V color.\n",
    "\n",
    "This routine sends a request to a catalog server at a remote location and pulls back all the photometry"
   ]
  },
  {
   "cell_type": "code",
   "execution_count": null,
   "metadata": {},
   "outputs": [],
   "source": [
    "def get_panstarrs_catalog(imgwcs, radius=0.2, rfaint=17, region=False):\n",
    "    from astroquery.mast import Catalogs\n",
    "    ra0, dec0 = imgwcs.wcs.crval\n",
    "    print('Querying Pan-STARRS catalog with radius={:.3f} deg and central coordinates RA,Dec={:.5f},{:.5f}'.format(\n",
    "        radius, ra0, dec0))\n",
    "    if region:\n",
    "        allcat = Catalogs.query_region('{} {}'.format(ra0, dec0), radius=radius,\n",
    "                                       catalog='PANSTARRS', data_release='dr2', \n",
    "                                       table='mean')#, rMeanPSFMag=[12, 22])\n",
    "    else:\n",
    "        allcat = Catalogs.query_criteria(coordinates='{} {}'.format(ra0, dec0), radius=radius,\n",
    "                                         catalog='PANSTARRS', data_release='dr2', \n",
    "                                         table='mean',\n",
    "                                         columns=['objID', 'raMean', 'decMean',\n",
    "                                                  'gMeanPSFMag', 'rMeanPSFMag', 'iMeanPSFMag', 'zMeanPSFMag'],\n",
    "                                         gMeanPSFMag=[('lte', 18), ('gte', 12)],\n",
    "                                         rMeanPSFMag=[('lte', 18), ('gte', 12)],\n",
    "                                         iMeanPSFMag=[('lte', 18), ('gte', 12)],\n",
    "                                         zMeanPSFMag=[('lte', 18), ('gte', 12)],\n",
    "                                         sort_by=[(\"asc\", \"rMeanPSFMag\")])\n",
    "    \n",
    "\n",
    "    #we limit ourselves to bright objects so that we know that they will have high Signal-to-Noise\n",
    "    rmag = allcat['rMeanPSFMag']\n",
    "    good = np.isfinite(rmag) * rmag < rfaint\n",
    "    cat = allcat[good]\n",
    "    print('Keeping {}/{} Pan-STARRS sources with rmag< {}.'.format(len(cat), len(allcat),rfaint))\n",
    "    \n",
    "    #make B and V-band magnitudes using the transformations published in Tonry et al. (2012)\n",
    "    #https://ui.adsabs.harvard.edu/abs/2012ApJ...750...99T/abstract\n",
    "    cat['B'] = 0.213 + 0.587 * (cat['gMeanPSFMag'] - cat['rMeanPSFMag']) + cat['gMeanPSFMag'] \n",
    "    cat['V'] = 0.006 + 0.474 *  (cat['gMeanPSFMag'] - cat['rMeanPSFMag']) + cat['rMeanPSFMag'] \n",
    "    \n",
    "    return cat"
   ]
  },
  {
   "cell_type": "code",
   "execution_count": null,
   "metadata": {},
   "outputs": [],
   "source": [
    "%time refcat_ngc7296_V = get_panstarrs_catalog(imgwcs_ngc7296_V, radius=0.2)\n",
    "refcat_ngc7296_V"
   ]
  },
  {
   "cell_type": "code",
   "execution_count": null,
   "metadata": {},
   "outputs": [],
   "source": [
    "%time refcat_ngc7296_B = get_panstarrs_catalog(imgwcs_ngc7296_B, radius=0.2)\n",
    "refcat_ngc7296_B"
   ]
  },
  {
   "cell_type": "markdown",
   "metadata": {},
   "source": [
    "We need to match the Pan-STARRS catalog against ours.  First we need to compute the nearest Pan-STARRS star to each of ours and look at the distribution of distances to find the optimal match."
   ]
  },
  {
   "cell_type": "code",
   "execution_count": null,
   "metadata": {},
   "outputs": [],
   "source": [
    "def sep_check(imgwcs,srcs,refcat):\n",
    "    import astropy.units as u\n",
    "    from astropy.coordinates import SkyCoord\n",
    "    \n",
    "    #this makes an instance of a SkyCoord class containing the RAs and Decs from Pan-STARRS objects\n",
    "    refcoord = SkyCoord(ra=refcat['raMean']*u.deg, dec=refcat['decMean']*u.deg)\n",
    "    #This uses the WCS to convert the x and y positions of stars in our image to RA-DEC\n",
    "    radec_stars = imgwcs.all_pix2world(srcs['xcentroid']+1, srcs['ycentroid']+1, 1)\n",
    "    #this does the same from our targets \n",
    "    coord = SkyCoord(ra=radec_stars[0]*u.deg, dec=radec_stars[1]*u.deg)\n",
    "\n",
    "    #this calculates the separations.  The \"_\" are values that are thrown away\n",
    "    _, sep2d, _ = coord.match_to_catalog_sky(refcoord)\n",
    "\n",
    "    #plot the histograms\n",
    "    _ = plt.hist(sep2d.arcsec, bins=100, range=(-0.5, 3))\n",
    "    return refcoord, coord"
   ]
  },
  {
   "cell_type": "code",
   "execution_count": null,
   "metadata": {},
   "outputs": [],
   "source": [
    "refcoord_ngc7296_V, coord_ngc7296_V = sep_check(imgwcs_ngc7296_V,srcs_ngc7296_V,refcat_ngc7296_V)"
   ]
  },
  {
   "cell_type": "code",
   "execution_count": null,
   "metadata": {},
   "outputs": [],
   "source": [
    "refcoord_ngc7296_B, coord_ngc7296_B = sep_check(imgwcs_ngc7296_B,srcs_ngc7296_B,refcat_ngc7296_B)"
   ]
  },
  {
   "cell_type": "markdown",
   "metadata": {},
   "source": [
    "It looks like the optimal match is less than 1.0 arcsec.  The following routine matches to within this tolerance"
   ]
  },
  {
   "cell_type": "code",
   "execution_count": null,
   "metadata": {},
   "outputs": [],
   "source": [
    "#take two lists of coordinates \n",
    "def match_src_ref(refcoord, coord, srcs, img, radasec = 1.0):\n",
    "    rad = radasec * u.arcsec\n",
    "\n",
    "    #find the indices of the reference and source list that correspond to matching objects such that\n",
    "    #the first index in each list corresponds to the first matching object\n",
    "    indx_ref, indx, d2d, _ = coord.search_around_sky(refcoord, rad)\n",
    "    nmatch = len(indx_ref)\n",
    "    print('Found {}/{} stars within {}'.format(nmatch, len(srcs), rad))\n",
    "    display_image(img, srcs=srcs[indx], calibrated=True)\n",
    "    return indx, indx_ref"
   ]
  },
  {
   "cell_type": "code",
   "execution_count": null,
   "metadata": {},
   "outputs": [],
   "source": [
    "indx_ngc7296_V, indx_ref_ngc7296_V = match_src_ref(refcoord_ngc7296_V, coord_ngc7296_V, srcs_ngc7296_V, img_ngc7296_V)\n",
    "indx_ngc7296_B, indx_ref_ngc7296_B = match_src_ref(refcoord_ngc7296_B, coord_ngc7296_B, srcs_ngc7296_B, img_ngc7296_B)"
   ]
  },
  {
   "cell_type": "markdown",
   "metadata": {},
   "source": [
    "Now let's calculate the zeropoints for each image.  To compare our objects to those from Pan-STARRS we will need to correct for the effects of airmass.\n",
    "\n",
    "We start by specifying the atmospheric extinction coefficient for each object.  This says for a typical atmosphere, how much the magnitude changes for an increase in airmass of 1.  We could have measured this using mutliple standard stars but will just assume a cannonical value for now."
   ]
  },
  {
   "cell_type": "code",
   "execution_count": null,
   "metadata": {},
   "outputs": [],
   "source": [
    "def zp_meas(srcs, refcat, indx, indx_ref, hdr):\n",
    "    kext = {'B': 0.4, 'V': 0.2}\n",
    "    import numpy.ma as ma\n",
    "\n",
    "    #this consists of the instrumental magnitude, which is the magnitude, including an airmass correction\n",
    "    #but without a true zeropoint.  The second term says how the magnitude \n",
    "    #m(inst) = -2.5 * log(flux) - (sec z) * k\n",
    "    instmag = srcs['mag'][indx].data - hdr['AIRMASS'] * kext[hdr['FILTER']]\n",
    "\n",
    "    #the Pan-STARRS magnitudes for the same objects, as indicated using the indx_ref array\n",
    "    psmag = refcat[hdr['FILTER']][indx_ref].data\n",
    "\n",
    "    #calculate the median zeropoint defined as\n",
    "    #psmag = -2.5 * log(flux) - (sec z) * k + ZP = m(inst) + ZP\n",
    "    medzp = np.median(psmag - instmag)\n",
    "    print(hdr['FILTER'],'zeropoint = ', medzp)\n",
    "    print('Airmass in {} was {}'.format(hdr['FILTER'], hdr['AIRMASS']))\n",
    "    return medzp"
   ]
  },
  {
   "cell_type": "code",
   "execution_count": null,
   "metadata": {},
   "outputs": [],
   "source": [
    "ZPV = zp_meas(srcs_ngc7296_V,refcat_ngc7296_V, indx_ngc7296_V, indx_ref_ngc7296_V,hdr_ngc7296_V)\n",
    "ZPB = zp_meas(srcs_ngc7296_B,refcat_ngc7296_B, indx_ngc7296_B, indx_ref_ngc7296_B,hdr_ngc7296_B)"
   ]
  },
  {
   "cell_type": "markdown",
   "metadata": {},
   "source": [
    "Now match the B and V-band catalogs together for this cluster, apply the zeropoints, and plot a CMD!"
   ]
  },
  {
   "cell_type": "code",
   "execution_count": null,
   "metadata": {},
   "outputs": [],
   "source": [
    "def make_CMD(img_B,imgwcs_B,srcs_B,imgwcs_V,srcs_V, hdr_B, hdr_V, ZPB, ZPV, radasec = 1.0):\n",
    "    import astropy.units as u\n",
    "    from astropy.coordinates import SkyCoord\n",
    "    import numpy.ma as ma\n",
    "    kext = {'B': 0.4, 'V': 0.2}\n",
    "    rad = radasec * u.arcsec\n",
    "    \n",
    "    #This uses the WCS to convert the x and y positions of stars in our image to RA-DEC\n",
    "    radec_stars_B = imgwcs_B.all_pix2world(srcs_B['xcentroid']+1, srcs_B['ycentroid']+1, 1)\n",
    "    radec_stars_V = imgwcs_V.all_pix2world(srcs_V['xcentroid']+1, srcs_V['ycentroid']+1, 1)\n",
    "    #this makes an instance of a SkyCoord class containing the RAs and Decs from the B-band\n",
    "    coord_B = SkyCoord(ra=radec_stars_B[0]*u.deg, dec=radec_stars_B[1]*u.deg)\n",
    "    coord_V = SkyCoord(ra=radec_stars_V[0]*u.deg, dec=radec_stars_V[1]*u.deg)\n",
    "\n",
    "    #this calculates the separations.  The \"_\" are values that are thrown away\n",
    "    _, sep2d, _ = coord_B.match_to_catalog_sky(coord_V)\n",
    "\n",
    "    #plot the histograms\n",
    "    _ = plt.hist(sep2d.arcsec, bins=100, range=(-0.5, 3))\n",
    "    plt.xlabel('Sep between B and V sources [arcsec]',fontsize=14)\n",
    "    plt.ylabel('N',fontsize=14)\n",
    "\n",
    "\n",
    "    #find the indices of the reference and source list that correspond to matching objects such that\n",
    "    #the first index in each list corresponds to the first matching object\n",
    "    indx_B, indx_V, d2d, _ = coord_V.search_around_sky(coord_B, rad)\n",
    "    nmatch = len(indx_B)\n",
    "    print('Found {}/{} stars within {}'.format(nmatch, len(srcs_B), rad))\n",
    "    display_image(img_B, srcs=srcs_B[indx_B], calibrated=True)\n",
    "    \n",
    "    #make the B and V-band magnitudes\n",
    "    magB = srcs_B['mag'][indx_B].data + ZPB - hdr_B['AIRMASS'] * kext[hdr_B['FILTER']]\n",
    "    magV = srcs_V['mag'][indx_V].data + ZPV - hdr_V['AIRMASS'] * kext[hdr_V['FILTER']]\n",
    "    #print(magB)\n",
    "    #print(magV)\n",
    "    #print(magB-magV)\n",
    "\n",
    "    #plot the CMD!\n",
    "    fig, ax = plt.subplots(figsize=(10, 10))\n",
    "    ax.plot(magB-magV, magV, 'ro',alpha=0.7)\n",
    "    ax.set_ylim(19,10)\n",
    "    ax.set_xlabel('B-V',fontsize=18)\n",
    "    ax.set_ylabel('V',fontsize=18)\n",
    "    plt.show\n"
   ]
  },
  {
   "cell_type": "code",
   "execution_count": null,
   "metadata": {},
   "outputs": [],
   "source": [
    "make_CMD(img_ngc7296_B, imgwcs_ngc7296_B, srcs_ngc7296_B,imgwcs_ngc7296_V, srcs_ngc7296_V, hdr_ngc7296_B, hdr_ngc7296_V, ZPB, ZPV, radasec = 1.0)"
   ]
  },
  {
   "cell_type": "code",
   "execution_count": null,
   "metadata": {},
   "outputs": [],
   "source": []
  }
 ],
 "metadata": {
  "kernelspec": {
   "display_name": "Python 3",
   "language": "python",
   "name": "python3"
  },
  "language_info": {
   "codemirror_mode": {
    "name": "ipython",
    "version": 3
   },
   "file_extension": ".py",
   "mimetype": "text/x-python",
   "name": "python",
   "nbconvert_exporter": "python",
   "pygments_lexer": "ipython3",
   "version": "3.7.4"
  }
 },
 "nbformat": 4,
 "nbformat_minor": 2
}
